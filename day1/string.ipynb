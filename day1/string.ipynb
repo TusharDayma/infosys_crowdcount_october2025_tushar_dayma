{
 "cells": [
  {
   "cell_type": "code",
   "execution_count": 1,
   "id": "114254e0",
   "metadata": {},
   "outputs": [],
   "source": [
    "str1 = \"Hello\"\n",
    "str2 = \"World\"\n",
    "char = \"o\""
   ]
  },
  {
   "cell_type": "code",
   "execution_count": null,
   "id": "572a305d",
   "metadata": {},
   "outputs": [
    {
     "name": "stdout",
     "output_type": "stream",
     "text": [
      "Concatenation: Hello World\n"
     ]
    }
   ],
   "source": [
    "# 1. Concatenation [+]\n",
    "concat = str1 + \" \" + str2\n",
    "print(\"Concatenation:\", concat)  "
   ]
  },
  {
   "cell_type": "code",
   "execution_count": null,
   "id": "b621037c",
   "metadata": {},
   "outputs": [
    {
     "name": "stdout",
     "output_type": "stream",
     "text": [
      "Repetition: HelloHelloHello\n"
     ]
    }
   ],
   "source": [
    "# 2. Repetition [*]\n",
    "repeat = str1 * 3\n",
    "print(\"Repetition:\", repeat)  "
   ]
  },
  {
   "cell_type": "code",
   "execution_count": null,
   "id": "7cd70d37",
   "metadata": {},
   "outputs": [
    {
     "name": "stdout",
     "output_type": "stream",
     "text": [
      "Slice [1]: e\n"
     ]
    }
   ],
   "source": [
    "# 3. Slice []\n",
    "slice_char = str1[1]\n",
    "print(\"Slice [1]:\", slice_char)  "
   ]
  },
  {
   "cell_type": "code",
   "execution_count": null,
   "id": "025aaa1d",
   "metadata": {},
   "outputs": [
    {
     "name": "stdout",
     "output_type": "stream",
     "text": [
      "Range Slice [1:4]: ell\n",
      "Last char [-1]: o\n"
     ]
    }
   ],
   "source": [
    "# 4. Range Slice [:]\n",
    "range_slice = str1[1:4]\n",
    "print(\"Range Slice [1:4]:\", range_slice)  \n",
    "last_char = str1[-1]  \n",
    "print(\"Last char [-1]:\", last_char)  "
   ]
  },
  {
   "cell_type": "code",
   "execution_count": null,
   "id": "50418aa5",
   "metadata": {},
   "outputs": [
    {
     "name": "stdout",
     "output_type": "stream",
     "text": [
      "'o' in 'Hello': True\n"
     ]
    }
   ],
   "source": [
    "# 5. In Membership [in]\n",
    "is_in = char in str1\n",
    "print(f\"'{char}' in '{str1}':\", is_in)  "
   ]
  },
  {
   "cell_type": "code",
   "execution_count": null,
   "id": "a939f0ac",
   "metadata": {},
   "outputs": [
    {
     "name": "stdout",
     "output_type": "stream",
     "text": [
      "'z' not in str1: True\n"
     ]
    }
   ],
   "source": [
    "# 6. Not in Membership [not in]\n",
    "not_in = \"z\" not in str1\n",
    "print(\"'z' not in str1:\", not_in) "
   ]
  },
  {
   "cell_type": "code",
   "execution_count": null,
   "id": "46299643",
   "metadata": {},
   "outputs": [],
   "source": []
  }
 ],
 "metadata": {
  "kernelspec": {
   "display_name": "env",
   "language": "python",
   "name": "python3"
  },
  "language_info": {
   "codemirror_mode": {
    "name": "ipython",
    "version": 3
   },
   "file_extension": ".py",
   "mimetype": "text/x-python",
   "name": "python",
   "nbconvert_exporter": "python",
   "pygments_lexer": "ipython3",
   "version": "3.12.7"
  }
 },
 "nbformat": 4,
 "nbformat_minor": 5
}
