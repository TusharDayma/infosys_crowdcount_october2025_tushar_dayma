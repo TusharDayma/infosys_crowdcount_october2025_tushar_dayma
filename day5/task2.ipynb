{
 "cells": [
  {
   "cell_type": "code",
   "execution_count": null,
   "id": "1a54dd24",
   "metadata": {},
   "outputs": [],
   "source": [
    "class Parent1:\n",
    "    def method1(self):\n",
    "        print(\"Method from Parent1\")\n",
    "\n",
    "class Parent2:\n",
    "    def method2(self):\n",
    "        print(\"Method from Parent2\")\n",
    "\n",
    "class Child(Parent1, Parent2):\n",
    "    def method3(self):\n",
    "        print(\"Method from Child\")\n",
    "\n",
    "c = Child()\n",
    "c.method1()  # Output: Method from Parent1\n",
    "c.method2()  # Output: Method from Parent2\n",
    "c.method3()  # Output: Method from Child\n"
   ]
  },
  {
   "cell_type": "code",
   "execution_count": null,
   "id": "3fb76535",
   "metadata": {},
   "outputs": [],
   "source": [
    "class Grandparent:\n",
    "    def grandparent_method(self):\n",
    "        print(\"Grandparent Method\")\n",
    "\n",
    "class Parent(Grandparent):\n",
    "    def parent_method(self):\n",
    "        print(\"Parent Method\")\n",
    "\n",
    "class Child(Parent):\n",
    "    def child_method(self):\n",
    "        print(\"Child Method\")\n",
    "\n",
    "c = Child()\n",
    "c.grandparent_method()  # Output: Grandparent Method\n",
    "c.parent_method()       # Output: Parent Method\n",
    "c.child_method()        # Output: Child Method\n"
   ]
  },
  {
   "cell_type": "code",
   "execution_count": null,
   "id": "1b3873be",
   "metadata": {},
   "outputs": [],
   "source": [
    "class Parent:\n",
    "    def parent_method(self):\n",
    "        print(\"Parent Method\")\n",
    "\n",
    "class Child1(Parent):\n",
    "    def child1_method(self):\n",
    "        print(\"Child1 Method\")\n",
    "\n",
    "class Child2(Parent):\n",
    "    def child2_method(self):\n",
    "        print(\"Child2 Method\")\n",
    "\n",
    "c1 = Child1()\n",
    "c2 = Child2()\n",
    "\n",
    "c1.parent_method()  # Output: Parent Method\n",
    "c1.child1_method()  # Output: Child1 Method\n",
    "\n",
    "c2.parent_method()  # Output: Parent Method\n",
    "c2.child2_method()  # Output: Child2 Method\n"
   ]
  },
  {
   "cell_type": "code",
   "execution_count": null,
   "id": "833be58e",
   "metadata": {},
   "outputs": [],
   "source": [
    "class A:\n",
    "    def method_a(self):\n",
    "        print(\"Method A\")\n",
    "\n",
    "class B(A):\n",
    "    def method_b(self):\n",
    "        print(\"Method B\")\n",
    "\n",
    "class C(A):\n",
    "    def method_c(self):\n",
    "        print(\"Method C\")\n",
    "\n",
    "class D(B, C):\n",
    "    def method_d(self):\n",
    "        print(\"Method D\")\n",
    "\n",
    "d = D()\n",
    "d.method_a()  # From class A\n",
    "d.method_b()  # From class B\n",
    "d.method_c()  # From class C\n",
    "d.method_d()  # From class D\n"
   ]
  }
 ],
 "metadata": {
  "language_info": {
   "name": "python"
  }
 },
 "nbformat": 4,
 "nbformat_minor": 5
}
