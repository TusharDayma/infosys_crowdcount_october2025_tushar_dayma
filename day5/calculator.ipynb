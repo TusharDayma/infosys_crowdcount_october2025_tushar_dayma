{
 "cells": [
  {
   "cell_type": "code",
   "execution_count": null,
   "id": "f59c776d",
   "metadata": {},
   "outputs": [],
   "source": [
    "class MyClass:\n",
    "    count = 0  # class attribute, shared by all instances\n",
    "\n",
    "    def __init__(self):\n",
    "        MyClass.count += 1  \n",
    "\n",
    "    @classmethod\n",
    "    def get_object_count(cls):\n",
    "        return cls.count  # returns the number of objects created\n",
    "\n",
    "# Creating objects\n",
    "a = MyClass()\n",
    "b = MyClass()\n",
    "c = MyClass()\n",
    "\n",
    "# Using the class method to get number of objects created\n",
    "print(MyClass.get_object_count()) \n",
    "print(a.get_object_count())        \n"
   ]
  },
  {
   "cell_type": "code",
   "execution_count": null,
   "id": "4d66e4be",
   "metadata": {},
   "outputs": [],
   "source": [
    "class Student:\n",
    "    school_name = \"ABC School\" \n",
    "    def __init__(self, name, age):\n",
    "        self.name = name      \n",
    "        self.age = age          \n",
    "\n",
    "# Create two Student objects\n",
    "s1 = Student(\"John\", 15)\n",
    "s2 = Student(\"Alice\", 14)\n",
    "\n",
    "# Accessing class variable\n",
    "print(Student.school_name)  \n",
    "print(s1.school_name)       \n",
    "print(s2.school_name)       \n",
    "\n",
    "# Modifying class variable changes for all objects\n",
    "Student.school_name = \"XYZ School\"\n",
    "print(s1.school_name)      \n",
    "print(s2.school_name)     \n",
    "\n",
    "# Accessing instance variables\n",
    "print(s1.name, s1.age)      \n",
    "print(s2.name, s2.age)     \n",
    "\n",
    "# Modifying instance variable affects only that object\n",
    "s1.age = 16\n",
    "print(s1.age)              \n",
    "print(s2.age)              \n"
   ]
  },
  {
   "cell_type": "code",
   "execution_count": null,
   "id": "2d135f17",
   "metadata": {},
   "outputs": [],
   "source": []
  },
  {
   "cell_type": "code",
   "execution_count": null,
   "id": "e9ed90df",
   "metadata": {},
   "outputs": [],
   "source": []
  },
  {
   "cell_type": "code",
   "execution_count": null,
   "id": "3e9f2165",
   "metadata": {},
   "outputs": [
    {
     "name": "stdout",
     "output_type": "stream",
     "text": [
      "Add:  15\n",
      "Subtract:  5\n",
      "Multiply:  50\n",
      "Divide:  Error: Division by zero\n",
      "Power:  8\n",
      "Modulus:  1\n"
     ]
    }
   ],
   "source": [
    "class Calculator:\n",
    "    def __init__(self):\n",
    "        pass\n",
    "    \n",
    "    def add(self, a, b):\n",
    "        return a + b\n",
    "    \n",
    "    def subtract(self, a, b):\n",
    "        return a - b\n",
    "    \n",
    "    def multiply(self, a, b):\n",
    "        return a * b\n",
    "    \n",
    "    def divide(self, a, b):\n",
    "        if b == 0:\n",
    "            return \"Error: Division by zero\"\n",
    "        return a / b\n",
    "    \n",
    "    def power(self, a, b):\n",
    "        return a ** b\n",
    "    \n",
    "    def modulus(self, a, b):\n",
    "        return a % b\n",
    "\n",
    "calc = Calculator()\n",
    "print(\"Add: \", calc.add(10, 5))\n",
    "print(\"Subtract: \", calc.subtract(10, 5))\n",
    "print(\"Multiply: \", calc.multiply(10, 5))\n",
    "print(\"Divide: \", calc.divide(10, 0))\n",
    "print(\"Power: \", calc.power(2, 3))\n",
    "print(\"Modulus: \", calc.modulus(10, 3))"
   ]
  },
  {
   "cell_type": "code",
   "execution_count": null,
   "id": "48777a01",
   "metadata": {},
   "outputs": [],
   "source": [
    "class SimpleCalculator:\n",
    "    def add(self, a, b):\n",
    "        return a + b\n",
    "    \n",
    "    def subtract(self, a, b):\n",
    "        return a - b\n",
    "    \n",
    "    def multiply(self, a, b):\n",
    "        return a * b\n",
    "    \n",
    "    def divide(self, a, b):\n",
    "        if b == 0:\n",
    "            return \"Error: Cannot divide by zero\"\n",
    "        return a / b\n",
    "\n",
    "\n",
    "calc = SimpleCalculator()\n",
    "print(calc.add(5, 3))      \n",
    "print(calc.subtract(5, 3)) \n",
    "print(calc.multiply(5, 3))   \n",
    "print(calc.divide(5, 0))     \n"
   ]
  }
 ],
 "metadata": {
  "kernelspec": {
   "display_name": "venv",
   "language": "python",
   "name": "python3"
  },
  "language_info": {
   "codemirror_mode": {
    "name": "ipython",
    "version": 3
   },
   "file_extension": ".py",
   "mimetype": "text/x-python",
   "name": "python",
   "nbconvert_exporter": "python",
   "pygments_lexer": "ipython3",
   "version": "3.10.0"
  }
 },
 "nbformat": 4,
 "nbformat_minor": 5
}
