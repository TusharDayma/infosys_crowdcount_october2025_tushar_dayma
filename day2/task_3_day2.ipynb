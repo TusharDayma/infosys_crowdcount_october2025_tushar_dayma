{
 "cells": [
  {
   "cell_type": "code",
   "execution_count": 1,
   "id": "34a70bfa",
   "metadata": {},
   "outputs": [
    {
     "name": "stdout",
     "output_type": "stream",
     "text": [
      "Length: 5\n",
      "Max key: Twitter\n",
      "Min key: Facebook\n"
     ]
    }
   ],
   "source": [
    "# Initial dictionary\n",
    "smedia = {\n",
    "    \"Twitter\": 140,\n",
    "    \"Facebook\": \"status\",\n",
    "    \"Instagram\": \"photo\",\n",
    "    \"Snapchat\": \"message\",\n",
    "    \"Linkedin\": \"work\"\n",
    "}\n",
    "\n",
    "# len() - Number of key-value pairs\n",
    "print(\"Length:\", len(smedia))  \n",
    "\n",
    "# max() - Maximum key (alphabetically)\n",
    "print(\"Max key:\", max(smedia))  \n",
    "\n",
    "# min() - Minimum key (alphabetically)\n",
    "print(\"Min key:\", min(smedia))  \n",
    "\n",
    "\n"
   ]
  },
  {
   "cell_type": "code",
   "execution_count": 2,
   "id": "000c59f5",
   "metadata": {},
   "outputs": [
    {
     "name": "stdout",
     "output_type": "stream",
     "text": [
      "After deleting 'Facebook': {'Twitter': 140, 'Instagram': 'photo', 'Snapchat': 'message', 'Linkedin': 'work'}\n",
      "Popped value: photo\n",
      "After pop: {'Twitter': 140, 'Snapchat': 'message', 'Linkedin': 'work'}\n",
      "After clear: {}\n"
     ]
    }
   ],
   "source": [
    "# del - Remove a specific key or the whole dictionary\n",
    "del smedia[\"Facebook\"]  \n",
    "print(\"After deleting 'Facebook':\", smedia)\n",
    "\n",
    "# pop() - Removes key and returns its value\n",
    "val = smedia.pop(\"Instagram\")\n",
    "print(\"Popped value:\", val) \n",
    "print(\"After pop:\", smedia)\n",
    "\n",
    "# clear() - Removes all items\n",
    "smedia.clear()\n",
    "print(\"After clear:\", smedia) "
   ]
  },
  {
   "cell_type": "code",
   "execution_count": null,
   "id": "d6c300ef",
   "metadata": {},
   "outputs": [],
   "source": []
  },
  {
   "cell_type": "code",
   "execution_count": null,
   "id": "0e4cd5d1",
   "metadata": {},
   "outputs": [],
   "source": []
  },
  {
   "cell_type": "code",
   "execution_count": null,
   "id": "8d5730e2",
   "metadata": {},
   "outputs": [],
   "source": []
  },
  {
   "cell_type": "code",
   "execution_count": null,
   "id": "35567f8a",
   "metadata": {},
   "outputs": [],
   "source": []
  },
  {
   "cell_type": "code",
   "execution_count": null,
   "id": "d344da34",
   "metadata": {},
   "outputs": [],
   "source": []
  }
 ],
 "metadata": {
  "kernelspec": {
   "display_name": "venv",
   "language": "python",
   "name": "python3"
  },
  "language_info": {
   "codemirror_mode": {
    "name": "ipython",
    "version": 3
   },
   "file_extension": ".py",
   "mimetype": "text/x-python",
   "name": "python",
   "nbconvert_exporter": "python",
   "pygments_lexer": "ipython3",
   "version": "3.10.0"
  }
 },
 "nbformat": 4,
 "nbformat_minor": 5
}
