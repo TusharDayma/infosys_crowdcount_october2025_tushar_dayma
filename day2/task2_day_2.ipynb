{
 "cells": [
  {
   "cell_type": "code",
   "execution_count": 7,
   "id": "5e9b5fef",
   "metadata": {},
   "outputs": [
    {
     "name": "stdout",
     "output_type": "stream",
     "text": [
      "After append: ['Python', 'C++', 'Java', 'Ruby', 'Halsey']\n",
      "After insert at index 2: ['Python', 'C++', 'Halsey', 'Java', 'Ruby', 'Halsey']\n",
      "After remove 'Java': ['Python', 'C++', 'Halsey', 'Ruby', 'Halsey']\n",
      "After pop: ['Python', 'C++', 'Halsey', 'Ruby']\n",
      "Popped item: Halsey\n",
      "After reverse: ['Ruby', 'Halsey', 'C++', 'Python']\n"
     ]
    }
   ],
   "source": [
    "# Initial list\n",
    "L2 = ['Python', 'C++', 'Java', 'Ruby']\n",
    "\n",
    "# 1. append()\n",
    "L2.append('Halsey')\n",
    "print(\"After append:\", L2)  \n",
    "\n",
    "# 2. insert()\n",
    "L2.insert(2, 'Halsey')\n",
    "print(\"After insert at index 2:\", L2)  \n",
    "\n",
    "# 3. remove()\n",
    "L2.remove('Java')\n",
    "print(\"After remove 'Java':\", L2)      \n",
    "\n",
    "# 4. pop()\n",
    "item = L2.pop()\n",
    "print(\"After pop:\", L2)               \n",
    "print(\"Popped item:\", item)            \n",
    "# 5. reverse()\n",
    "L2.reverse()\n",
    "print(\"After reverse:\", L2)           \n",
    "    \n"
   ]
  },
  {
   "cell_type": "code",
   "execution_count": 8,
   "id": "b630f08b",
   "metadata": {},
   "outputs": [
    {
     "name": "stdout",
     "output_type": "stream",
     "text": [
      "Sort ascending: ['C++', 'Java', 'Python', 'Ruby']\n",
      "Sort descending: ['Ruby', 'Python', 'Java', 'C++']\n"
     ]
    }
   ],
   "source": [
    "# 6. sort() (ascending)\n",
    "L2 = ['Python', 'C++', 'Java', 'Ruby']\n",
    "L2.sort()\n",
    "print(\"Sort ascending:\", L2)          \n",
    "\n",
    "# 7. sort() (descending)\n",
    "L2.sort(reverse=True)\n",
    "print(\"Sort descending:\", L2)  "
   ]
  },
  {
   "cell_type": "code",
   "execution_count": 1,
   "id": "3631d1e3",
   "metadata": {},
   "outputs": [
    {
     "name": "stdout",
     "output_type": "stream",
     "text": [
      "my friend is working in samsung company\n",
      "am using oppo mobile for multipupose\n",
      "my friend is working in oppo company\n"
     ]
    }
   ],
   "source": [
    "phone='samsung' #global variable\n",
    "def device():\n",
    "    global phone\n",
    "    phone='oppo' #local variable\n",
    "    print(f'am using {phone} mobile for multipupose')\n",
    "print(f'my friend is working in {phone} company')\n",
    "device()\n",
    "print(f'my friend is working in {phone} company')"
   ]
  },
  {
   "cell_type": "code",
   "execution_count": null,
   "id": "d4d5188b",
   "metadata": {},
   "outputs": [],
   "source": []
  },
  {
   "cell_type": "code",
   "execution_count": null,
   "id": "8635917e",
   "metadata": {},
   "outputs": [],
   "source": []
  }
 ],
 "metadata": {
  "kernelspec": {
   "display_name": "env",
   "language": "python",
   "name": "python3"
  },
  "language_info": {
   "codemirror_mode": {
    "name": "ipython",
    "version": 3
   },
   "file_extension": ".py",
   "mimetype": "text/x-python",
   "name": "python",
   "nbconvert_exporter": "python",
   "pygments_lexer": "ipython3",
   "version": "3.12.7"
  }
 },
 "nbformat": 4,
 "nbformat_minor": 5
}
