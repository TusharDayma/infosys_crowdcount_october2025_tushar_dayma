{
 "cells": [
  {
   "cell_type": "code",
   "execution_count": null,
   "id": "f8a96a0b",
   "metadata": {},
   "outputs": [
    {
     "name": "stdout",
     "output_type": "stream",
     "text": [
      "Union (|): {1, 2, 3, 4, 5, 6, 7, 8}\n",
      "Union (union()): {1, 2, 3, 4, 5, 6, 7, 8}\n",
      "Intersection (&): {4, 5}\n",
      "Intersection (intersection()): {4, 5}\n",
      "Difference (s1-s2): {1, 2, 3}\n",
      "Difference (s1.difference(s2)): {1, 2, 3}\n",
      "Difference (s2-s1): {8, 6, 7}\n",
      "Difference (s2.difference(s1)): {8, 6, 7}\n",
      "Symmetric Difference (^): {1, 2, 3, 6, 7, 8}\n"
     ]
    },
    {
     "data": {
      "text/plain": [
       "<function print(*args, sep=' ', end='\\n', file=None, flush=False)>"
      ]
     },
     "execution_count": 1,
     "metadata": {},
     "output_type": "execute_result"
    }
   ],
   "source": [
    "# Sets for demonstration\n",
    "s1 = {1, 2, 3, 4, 5}\n",
    "s2 = {4, 5, 6, 7, 8}\n",
    "\n",
    "# 1. UNION (| or union())\n",
    "union1 = s1 | s2\n",
    "union2 = s1.union(s2)\n",
    "print(\"Union (|):\", union1)     \n",
    "print(\"Union (union()):\", union2) \n",
    "\n",
    "# 2. INTERSECTION (& or intersection())\n",
    "inter1 = s1 & s2\n",
    "inter2 = s1.intersection(s2)\n",
    "print(\"Intersection (&):\", inter1)       \n",
    "print(\"Intersection (intersection()):\", inter2) \n",
    "\n",
    "\n"
   ]
  },
  {
   "cell_type": "code",
   "execution_count": null,
   "id": "71bb1660",
   "metadata": {},
   "outputs": [],
   "source": [
    "# 3. DIFFERENCE (- or difference())\n",
    "diff1 = s1 - s2\n",
    "diff2 = s1.difference(s2)\n",
    "diff3 = s2 - s1\n",
    "diff4 = s2.difference(s1)\n",
    "print(\"Difference (s1-s2):\", diff1)      \n",
    "print(\"Difference (s1.difference(s2)):\", diff2) \n",
    "print(\"Difference (s2-s1):\", diff3)     \n",
    "print(\"Difference (s2.difference(s1)):\", diff4) \n",
    "\n",
    "# 4. SYMMETRIC DIFFERENCE (^ or symmetric_difference())\n",
    "symm1 = s1 ^ s2\n",
    "symm2 = s1.symmetric_difference(s2)\n",
    "symm3 = s2.symmetric_difference(s1)\n",
    "print(\"Symmetric Difference (^):\", symm1)             \n",
    "print"
   ]
  }
 ],
 "metadata": {
  "kernelspec": {
   "display_name": "env",
   "language": "python",
   "name": "python3"
  },
  "language_info": {
   "codemirror_mode": {
    "name": "ipython",
    "version": 3
   },
   "file_extension": ".py",
   "mimetype": "text/x-python",
   "name": "python",
   "nbconvert_exporter": "python",
   "pygments_lexer": "ipython3",
   "version": "3.12.7"
  }
 },
 "nbformat": 4,
 "nbformat_minor": 5
}
