{
 "cells": [
  {
   "cell_type": "code",
   "execution_count": 1,
   "id": "d58ea83b",
   "metadata": {},
   "outputs": [
    {
     "name": "stdout",
     "output_type": "stream",
     "text": [
      "Original set: {'C++', 'Java', 'Python'}\n",
      "After add('Perl'): {'C++', 'Java', 'Python', 'Perl'}\n",
      "After update(['C++', 'Basic']): {'Python', 'Basic', 'C++', 'Java', 'Perl'}\n",
      "Copied set S2: {'C++', 'Java', 'Python', 'Basic', 'Perl'}\n"
     ]
    }
   ],
   "source": [
    "# Initial set\n",
    "S1 = {'Python', 'C++', 'Java'}\n",
    "print(\"Original set:\", S1)\n",
    "\n",
    "# add(): adds one new element\n",
    "S1.add(\"Perl\")\n",
    "print(\"After add('Perl'):\", S1)\n",
    "\n",
    "# update(): adds multiple elements from iterable\n",
    "S1.update([\"C++\", \"Basic\"])\n",
    "print(\"After update(['C++', 'Basic']):\", S1)\n",
    "\n",
    "# copy(): create a new set\n",
    "S2 = S1.copy()\n",
    "print(\"Copied set S2:\", S2)\n",
    "\n",
    "\n"
   ]
  },
  {
   "cell_type": "code",
   "execution_count": 2,
   "id": "71a570e4",
   "metadata": {},
   "outputs": [
    {
     "name": "stdout",
     "output_type": "stream",
     "text": [
      "After discard('Java'): {'Python', 'Basic', 'C++', 'Perl'}\n",
      "After discard('SQL') (not present): {'Python', 'Basic', 'C++', 'Perl'}\n",
      "After remove('C++'): {'Python', 'Basic', 'Perl'}\n"
     ]
    }
   ],
   "source": [
    "# discard(): removes element if present, does nothing if not present\n",
    "S1.discard(\"Java\")\n",
    "print(\"After discard('Java'):\", S1)\n",
    "S1.discard(\"SQL\")  # No error if not present\n",
    "print(\"After discard('SQL') (not present):\", S1)\n",
    "\n",
    "# remove(): removes element if present, raises error if not present\n",
    "S1.remove(\"C++\")\n",
    "print(\"After remove('C++'):\", S1)\n",
    "# S1.remove(\"SQL\")  # Uncommenting will raise KeyError\n",
    "\n"
   ]
  },
  {
   "cell_type": "code",
   "execution_count": 3,
   "id": "49bf41ab",
   "metadata": {},
   "outputs": [
    {
     "name": "stdout",
     "output_type": "stream",
     "text": [
      "After clear(): set()\n"
     ]
    }
   ],
   "source": [
    "# clear(): removes all elements\n",
    "S1.clear()\n",
    "print(\"After clear():\", S1)"
   ]
  },
  {
   "cell_type": "code",
   "execution_count": null,
   "id": "127ecd0a",
   "metadata": {},
   "outputs": [],
   "source": []
  },
  {
   "cell_type": "code",
   "execution_count": null,
   "id": "32312794",
   "metadata": {},
   "outputs": [],
   "source": []
  },
  {
   "cell_type": "code",
   "execution_count": null,
   "id": "6820c1d0",
   "metadata": {},
   "outputs": [],
   "source": []
  }
 ],
 "metadata": {
  "kernelspec": {
   "display_name": "venv",
   "language": "python",
   "name": "python3"
  },
  "language_info": {
   "codemirror_mode": {
    "name": "ipython",
    "version": 3
   },
   "file_extension": ".py",
   "mimetype": "text/x-python",
   "name": "python",
   "nbconvert_exporter": "python",
   "pygments_lexer": "ipython3",
   "version": "3.10.0"
  }
 },
 "nbformat": 4,
 "nbformat_minor": 5
}
