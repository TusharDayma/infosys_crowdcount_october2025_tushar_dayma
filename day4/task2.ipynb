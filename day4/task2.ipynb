{
 "cells": [
  {
   "cell_type": "code",
   "execution_count": 1,
   "id": "11f5cdfc",
   "metadata": {},
   "outputs": [
    {
     "name": "stdout",
     "output_type": "stream",
     "text": [
      "random(): 0.9828265762124812\n",
      "randint(1, 10): 1\n",
      "randrange(0, 20, 5): 0\n",
      "choice(my_list): 23\n",
      "Original list: [23, 45, 9, 231, 18]\n",
      "Shuffled list: [9, 18, 45, 231, 23]\n"
     ]
    }
   ],
   "source": [
    "import random\n",
    "\n",
    "# 1. random() - random float between 0.0 to 1.0\n",
    "print(\"random():\", random.random())\n",
    "\n",
    "# 2. randint(a, b) - random integer between a and b (inclusive)\n",
    "print(\"randint(1, 10):\", random.randint(1, 10))\n",
    "\n",
    "# 3. randrange(start, stop, step) - random element from range with step\n",
    "print(\"randrange(0, 20, 5):\", random.randrange(0, 20, 5))\n",
    "\n",
    "# 4. choice(sequence) - random element from non-empty sequence\n",
    "my_list = [23, 'k', 7.9, 66]\n",
    "print(\"choice(my_list):\", random.choice(my_list))\n",
    "\n",
    "# 5. shuffle(list) - randomly reorder elements in a list\n",
    "numbers = [23, 45, 9, 231, 18]\n",
    "print(\"Original list:\", numbers)\n",
    "random.shuffle(numbers)\n",
    "print(\"Shuffled list:\", numbers)\n"
   ]
  },
  {
   "cell_type": "code",
   "execution_count": 2,
   "id": "61d59520",
   "metadata": {},
   "outputs": [
    {
     "name": "stdout",
     "output_type": "stream",
     "text": [
      "Current directory: d:\\Infosys_internship\\tasks\\day4\\test_dir\n",
      "Directory contents: []\n"
     ]
    }
   ],
   "source": [
    "import os\n",
    "\n",
    "# Create a directory\n",
    "os.mkdir('test_dir')\n",
    "\n",
    "# Change current directory\n",
    "os.chdir('test_dir')\n",
    "\n",
    "# Get current working directory\n",
    "print(\"Current directory:\", os.getcwd())\n",
    "\n",
    "# List contents in current directory\n",
    "print(\"Directory contents:\", os.listdir())\n",
    "\n",
    "# Change back and remove the created directory\n",
    "os.chdir('..')\n",
    "os.rmdir('test_dir')\n"
   ]
  },
  {
   "cell_type": "code",
   "execution_count": 3,
   "id": "b45bf5f8",
   "metadata": {},
   "outputs": [
    {
     "name": "stdout",
     "output_type": "stream",
     "text": [
      "Square root of 16: 4.0\n",
      "Factorial of 5: 120\n",
      "Sine of 90 degrees: 1.0\n"
     ]
    }
   ],
   "source": [
    "import math\n",
    "\n",
    "# Calculate square root\n",
    "print(\"Square root of 16:\", math.sqrt(16))\n",
    "\n",
    "# Find factorial\n",
    "print(\"Factorial of 5:\", math.factorial(5))\n",
    "\n",
    "# Calculate sine of 90 degrees (converted to radians)\n",
    "print(\"Sine of 90 degrees:\", math.sin(math.radians(90)))\n"
   ]
  },
  {
   "cell_type": "code",
   "execution_count": 4,
   "id": "3dcbc358",
   "metadata": {},
   "outputs": [
    {
     "name": "stdout",
     "output_type": "stream",
     "text": [
      "Pi: 3.141592653589793\n",
      "Euler's number (e): 2.718281828459045\n",
      "sin(45): 0.7071067811865476\n",
      "cos(45): 0.7071067811865476\n",
      "tan(45): 0.9999999999999999\n",
      "Square root of 25: 5.0\n",
      "2 raised to power 3: 8.0\n",
      "Natural log of 10: 2.302585092994046\n",
      "Base-10 log of 100: 2.0\n",
      "Exponent of 2: 7.38905609893065\n",
      "Ceil of 4.3: 5\n",
      "Floor of 4.7: 4\n"
     ]
    }
   ],
   "source": [
    "import math\n",
    "\n",
    "# Constants\n",
    "print(\"Pi:\", math.pi)\n",
    "print(\"Euler's number (e):\", math.e)\n",
    "\n",
    "# Trigonometric functions\n",
    "degrees = 45\n",
    "radians = math.radians(degrees)\n",
    "print(f\"sin({degrees}):\", math.sin(radians))\n",
    "print(f\"cos({degrees}):\", math.cos(radians))\n",
    "print(f\"tan({degrees}):\", math.tan(radians))\n",
    "\n",
    "# Logarithmic and exponential functions\n",
    "print(\"Square root of 25:\", math.sqrt(25))\n",
    "print(\"2 raised to power 3:\", math.pow(2, 3))\n",
    "print(\"Natural log of 10:\", math.log(10))\n",
    "print(\"Base-10 log of 100:\", math.log10(100))\n",
    "print(\"Exponent of 2:\", math.exp(2))\n",
    "\n",
    "# Representation functions\n",
    "print(\"Ceil of 4.3:\", math.ceil(4.3))\n",
    "print(\"Floor of 4.7:\", math.floor(4.7))\n"
   ]
  },
  {
   "cell_type": "code",
   "execution_count": null,
   "id": "1185ca93",
   "metadata": {},
   "outputs": [],
   "source": []
  }
 ],
 "metadata": {
  "kernelspec": {
   "display_name": "env",
   "language": "python",
   "name": "python3"
  },
  "language_info": {
   "codemirror_mode": {
    "name": "ipython",
    "version": 3
   },
   "file_extension": ".py",
   "mimetype": "text/x-python",
   "name": "python",
   "nbconvert_exporter": "python",
   "pygments_lexer": "ipython3",
   "version": "3.12.7"
  }
 },
 "nbformat": 4,
 "nbformat_minor": 5
}
