{
 "cells": [
  {
   "cell_type": "code",
   "execution_count": 1,
   "id": "5de3f00e",
   "metadata": {},
   "outputs": [
    {
     "name": "stdout",
     "output_type": "stream",
     "text": [
      "[1, 4, 9, 16, 25]\n",
      "[2, 4]\n"
     ]
    }
   ],
   "source": [
    "numbers = [1, 2, 3, 4, 5]\n",
    "squared_numbers = [num**2 for num in numbers]\n",
    "print(squared_numbers)  # Output: [1, 4, 9, 16, 25]\n",
    "even_numbers = [num for num in numbers if num % 2 == 0]\n",
    "print(even_numbers)     # Output: [2, 4]\n"
   ]
  },
  {
   "cell_type": "code",
   "execution_count": 2,
   "id": "22da4f6d",
   "metadata": {},
   "outputs": [
    {
     "name": "stdout",
     "output_type": "stream",
     "text": [
      "(1, 4, 9, 16, 25)\n"
     ]
    }
   ],
   "source": [
    "numbers = [1, 2, 3, 4, 5]\n",
    "squared_tuple = tuple(num**2 for num in numbers)\n",
    "print(squared_tuple)    # Output: (1, 4, 9, 16, 25)\n"
   ]
  },
  {
   "cell_type": "code",
   "execution_count": 3,
   "id": "9de75998",
   "metadata": {},
   "outputs": [
    {
     "name": "stdout",
     "output_type": "stream",
     "text": [
      "{1: 1, 2: 4, 3: 9, 4: 16, 5: 25}\n"
     ]
    }
   ],
   "source": [
    "numbers = [1, 2, 3, 4, 5]\n",
    "squared_dict = {num: num**2 for num in numbers}\n",
    "print(squared_dict)     # Output: {1: 1, 2: 4, 3: 9, 4: 16, 5: 25}\n"
   ]
  },
  {
   "cell_type": "code",
   "execution_count": 4,
   "id": "631a455b",
   "metadata": {},
   "outputs": [
    {
     "name": "stdout",
     "output_type": "stream",
     "text": [
      "Arguments: (1, 2, 3)\n",
      "Keyword arguments: {'a': 1, 'b': 2}\n",
      "a: 10\n",
      "*args: (20, 30)\n",
      "**kwargs: {'x': 5, 'y': 6}\n"
     ]
    }
   ],
   "source": [
    "def demo_args(*args):\n",
    "    print(\"Arguments:\", args)\n",
    "\n",
    "demo_args(1, 2, 3)  # Output: Arguments: (1, 2, 3)\n",
    "\n",
    "def demo_kwargs(**kwargs):\n",
    "    print(\"Keyword arguments:\", kwargs)\n",
    "\n",
    "demo_kwargs(a=1, b=2)  # Output: Keyword arguments: {'a': 1, 'b': 2}\n",
    "\n",
    "def demo_all(a, *args, **kwargs):\n",
    "    print(\"a:\", a)\n",
    "    print(\"*args:\", args)\n",
    "    print(\"**kwargs:\", kwargs)\n",
    "\n",
    "demo_all(10, 20, 30, x=5, y=6)\n",
    "# Output:\n",
    "# a: 10\n",
    "# *args: (20, 30)\n",
    "# **kwargs: {'x': 5, 'y': 6}\n"
   ]
  },
  {
   "cell_type": "code",
   "execution_count": 5,
   "id": "ec65b790",
   "metadata": {},
   "outputs": [
    {
     "name": "stdout",
     "output_type": "stream",
     "text": [
      "8\n",
      "16\n",
      "[2, 4, 6]\n",
      "[2, 4, 6, 8, 10, 12]\n"
     ]
    }
   ],
   "source": [
    "# Lambda to add two numbers\n",
    "add = lambda x, y: x + y\n",
    "print(add(3, 5))  # Output: 8\n",
    "\n",
    "# Lambda to square a number\n",
    "square = lambda n: n ** 2\n",
    "print(square(4))  # Output: 16\n",
    "\n",
    "# Lambda with filter to get even numbers from a list\n",
    "numbers = [1, 2, 3, 4, 5, 6]\n",
    "even_numbers = list(filter(lambda num: num % 2 == 0, numbers))\n",
    "print(even_numbers)  # Output: [2, 4, 6]\n",
    "\n",
    "# Lambda with map to double the values in a list\n",
    "doubled = list(map(lambda num: num * 2, numbers))\n",
    "print(doubled)  # Output: [2, 4, 6, 8, 10, 12]\n"
   ]
  },
  {
   "cell_type": "code",
   "execution_count": null,
   "id": "2a6e48a9",
   "metadata": {},
   "outputs": [],
   "source": []
  }
 ],
 "metadata": {
  "kernelspec": {
   "display_name": "env",
   "language": "python",
   "name": "python3"
  },
  "language_info": {
   "codemirror_mode": {
    "name": "ipython",
    "version": 3
   },
   "file_extension": ".py",
   "mimetype": "text/x-python",
   "name": "python",
   "nbconvert_exporter": "python",
   "pygments_lexer": "ipython3",
   "version": "3.12.7"
  }
 },
 "nbformat": 4,
 "nbformat_minor": 5
}
